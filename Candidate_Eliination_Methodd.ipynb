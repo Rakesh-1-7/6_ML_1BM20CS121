{
  "nbformat": 4,
  "nbformat_minor": 0,
  "metadata": {
    "colab": {
      "provenance": []
    },
    "kernelspec": {
      "name": "python3",
      "display_name": "Python 3"
    },
    "language_info": {
      "name": "python"
    }
  },
  "cells": [
    {
      "cell_type": "code",
      "execution_count": 17,
      "metadata": {
        "id": "8WAbOOXlouuF"
      },
      "outputs": [],
      "source": [
        "import pandas as pd \n",
        "import numpy as np\n",
        "import csv"
      ]
    },
    {
      "cell_type": "code",
      "source": [
        "#Initialising input\n",
        "data = pd.read_csv('enjoysports.csv')\n",
        "d = np.array(data.iloc[:,0:-1])\n",
        "print(\"\\nInstances are:\\n\",d)\n",
        "target = np.array(data.iloc[:,-1])\n",
        "print(\"\\nTarget Values are: \",target)"
      ],
      "metadata": {
        "colab": {
          "base_uri": "https://localhost:8080/",
          "height": 0
        },
        "id": "BAJ6h97AulQr",
        "outputId": "f06f1007-dfa5-4afc-95c8-27d34718ba6c"
      },
      "execution_count": 18,
      "outputs": [
        {
          "output_type": "stream",
          "name": "stdout",
          "text": [
            "\n",
            "Instances are:\n",
            " [['Sunny' 'Warm' 'Normal' 'Strong' 'Warm' 'Same']\n",
            " ['Sunny' 'Warm' 'High' 'Strong' 'Warm' 'Same']\n",
            " ['Rainy' 'Cold' 'High' 'Strong' 'Warm' 'Change']\n",
            " ['Sunny' 'Warm' 'High' 'Strong' 'Cool' 'Change']]\n",
            "\n",
            "Target Values are:  ['Yes' 'Yes' 'No' 'Yes']\n"
          ]
        }
      ]
    },
    {
      "cell_type": "code",
      "source": [
        "def learn(d, target): \n",
        "    specific_h = d[0].copy()\n",
        "    # print(\"\\nSpecific Hypothesis: \", specific_h)\n",
        "    general_h = [[\"?\" for i in range(len(specific_h))] for i in range(len(specific_h))]\n",
        "    # print(\"\\nGeneric Hypothesis: \",general_h)  \n",
        "\n",
        "    for i, h in enumerate(d):\n",
        "        # print(\"\\nIteration\", i+1 , \"is \", h)\n",
        "        if target[i] == \"Yes\":\n",
        "            # print(\"Instance is Positive \")\n",
        "            for x in range(len(specific_h)): \n",
        "                if h[x]!= specific_h[x]:                    \n",
        "                    specific_h[x] ='?'                     \n",
        "                    general_h[x][x] ='?'\n",
        "                   \n",
        "        if target[i] == \"No\":            \n",
        "            # print(\"Instance is Negative \")\n",
        "            for x in range(len(specific_h)): \n",
        "                if h[x]!= specific_h[x]:                    \n",
        "                    general_h[x][x] = specific_h[x]                \n",
        "                else:                    \n",
        "                    general_h[x][x] = '?'        \n",
        "        \n",
        "        # print(\"Specific Hypothesis after \", i+1, \"Instance is \", specific_h)         \n",
        "        # print(\"Generic Hypothesis after \", i+1, \"Instance is \", general_h)\n",
        "        # print(\"\\n\")\n",
        "\n",
        "    indices = [i for i, val in enumerate(general_h) if val == ['?', '?', '?', '?', '?', '?']]    \n",
        "    for i in indices:   \n",
        "        general_h.remove(['?', '?', '?', '?', '?', '?']) \n",
        "    return specific_h, general_h "
      ],
      "metadata": {
        "id": "zqVC-OFkundp"
      },
      "execution_count": 21,
      "outputs": []
    },
    {
      "cell_type": "code",
      "source": [
        "#Solution\n",
        "specific, general = learn(d, target)\n",
        "\n",
        "print(\"Final Specific Hypothesis: \", '<', ', '.join(specific),'>')\n",
        "print(\"Final General Hypothesis: \")\n",
        "for i in general:\n",
        "  print('<', ', '.join(i),'>, ')"
      ],
      "metadata": {
        "colab": {
          "base_uri": "https://localhost:8080/",
          "height": 0
        },
        "id": "eEVEZ042uqqL",
        "outputId": "dcb2ca81-a36d-417c-8743-980326a09284"
      },
      "execution_count": 22,
      "outputs": [
        {
          "output_type": "stream",
          "name": "stdout",
          "text": [
            "Final Specific Hypothesis:  < Sunny, Warm, ?, Strong, ?, ? >\n",
            "Final General Hypothesis: \n",
            "< Sunny, ?, ?, ?, ?, ? >, \n",
            "< ?, Warm, ?, ?, ?, ? >, \n"
          ]
        }
      ]
    }
  ]
}