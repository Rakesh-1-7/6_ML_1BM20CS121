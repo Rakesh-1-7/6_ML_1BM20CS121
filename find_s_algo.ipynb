{
  "nbformat": 4,
  "nbformat_minor": 0,
  "metadata": {
    "colab": {
      "provenance": []
    },
    "kernelspec": {
      "name": "python3",
      "display_name": "Python 3"
    },
    "language_info": {
      "name": "python"
    }
  },
  "cells": [
    {
      "cell_type": "code",
      "execution_count": 63,
      "metadata": {
        "id": "71vFFPZYpEat",
        "colab": {
          "base_uri": "https://localhost:8080/"
        },
        "outputId": "c01e7d61-f3e6-4ae8-fb1c-b044fefa8e9a"
      },
      "outputs": [
        {
          "output_type": "stream",
          "name": "stdout",
          "text": [
            "Data : \n",
            "['Sky', 'Air Temp', 'Humidity', 'Wind', 'Water', 'Forecast', 'Enjoy Report']\n",
            "['Sunny', 'Warm', 'Normal', 'Strong', 'Warm', 'Same', 'Yes']\n",
            "['Sunny', 'Warm', 'High', 'Strong', 'Warm', 'Same', 'Yes']\n",
            "['Rainy', 'Cold', 'High', 'Strong', 'Warm', 'Change', 'No']\n",
            "['Sunny', 'Warm', 'High', 'Strong', 'Cool', 'Change', 'Yes']\n",
            "In Hypothesis :  ['Sunny', 'Warm', '?', 'Strong', '?', '?']\n"
          ]
        }
      ],
      "source": [
        "import csv\n",
        "\n",
        "def updateHypothesis(x,h):\n",
        "  if h == []:\n",
        "    return x\n",
        "  for i in range(len(h)):\n",
        "      if x[i].upper() != h[i].upper():\n",
        "        h[i] = '?'\n",
        "  return h\n",
        "\n",
        "if __name__ == '__main__':\n",
        "\n",
        "  h = []\n",
        "  with open('/content/enjoysports.csv','r') as file:\n",
        "    reader = csv.reader(file)\n",
        "    data = list(reader)\n",
        "\n",
        "    print('Data : ')\n",
        "    for row in data:\n",
        "      print(row)\n",
        "    \n",
        "    for x in data:\n",
        "      if x[-1].upper() == \"YES\":\n",
        "        # print(x)\n",
        "        x.pop()\n",
        "        h = updateHypothesis(x,h)\n",
        "  print(\"In Hypothesis : \",h)"
      ]
    }
  ]
}